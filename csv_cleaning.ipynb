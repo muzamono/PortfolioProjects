{
 "cells": [
  {
   "cell_type": "markdown",
   "metadata": {},
   "source": [
    "From ekidata.jp, 4 csv files containing data about train stations in Japan were obtained: station.csv, line.csv, company.csv and join.csv.\n",
    "\n",
    "Postcode data in Japan was obtained from post.japanpost.jp/zipcode/dl/utf-zip.html and is used to geocode the train stations.\n",
    "\n",
    "Opening the csv files and reading the data into pandas dataframes, we can see that some of the data is written in Japanese, such as the columns 'station_name' and 'address' in station.csv.  We need to convert this data to English for easier analysis."
   ]
  },
  {
   "cell_type": "code",
   "execution_count": null,
   "metadata": {},
   "outputs": [],
   "source": [
    "import pandas as pd\n",
    "\n",
    "# Load the csv files\n",
    "station = pd.read_csv('station.csv')\n",
    "line =  pd.read_csv('line.csv')\n",
    "company = pd.read_csv('company.csv')\n",
    "join =  pd.read_csv('join.csv')\n",
    "postcode = pd.read_csv('postcode_jp.csv')\n",
    "\n",
    "# Print the output \n",
    "station"
   ]
  },
  {
   "cell_type": "markdown",
   "metadata": {},
   "source": [
    "Using cutlet.py module,  we can convert the Japanese text to English.  We will use the following code to convert all the data that are Japanese to English from each csv file, and put the translated columns to the right of the original column."
   ]
  },
  {
   "cell_type": "code",
   "execution_count": 19,
   "metadata": {},
   "outputs": [],
   "source": [
    "import pandas as pd\n",
    "import cutlet as ct\n",
    "\n",
    "# Load the csv files\n",
    "station = pd.read_csv('station.csv')\n",
    "line =  pd.read_csv('line.csv')\n",
    "company = pd.read_csv('company.csv')\n",
    "join =  pd.read_csv('join.csv')\n",
    "postcode = pd.read_csv('postcode_jp.csv')\n",
    "\n",
    "# Create a Cutlet object\n",
    "cutlet_obj = ct.Cutlet()\n",
    "\n",
    "# Define a function to translate Japanese text to English\n",
    "def translate_jp_to_en(text):\n",
    "    return cutlet_obj.romaji(text)\n",
    "\n",
    "# Apply the translation function to the japanese-lettered columns\n",
    "station['station_name_en'] = station['station_name'].apply(translate_jp_to_en)\n",
    "station['address_en'] = station['address'].apply(translate_jp_to_en)\n",
    "\n",
    "line['line_name_en'] = line['line_name'].apply(translate_jp_to_en)\n",
    "line['line_name_h_en'] = line['line_name_h'].apply(translate_jp_to_en)\n",
    "\n",
    "company['company_name_en'] = company['company_name'].apply(translate_jp_to_en)\n",
    "company['company_name_h_en'] = company['company_name_h'].apply(translate_jp_to_en)\n",
    "\n",
    "postcode['prefecture_en'] = postcode['prefecture'].apply(translate_jp_to_en)\n",
    "postcode['city_en'] = postcode['city'].apply(translate_jp_to_en)\n",
    "\n",
    "# Get the current column order\n",
    "cols_s = station.columns.tolist()\n",
    "cols_l = line.columns.tolist()\n",
    "cols_c = company.columns.tolist()\n",
    "cols_p = postcode.columns.tolist()\n",
    "\n",
    "# Move english-lettered columns to the right of japanese-lettered columns\n",
    "cols_s.insert(cols_s.index('station_name') + 1, cols_s.pop(cols_s.index('station_name_en')))\n",
    "cols_s.insert(cols_s.index('address') + 1, cols_s.pop(cols_s.index('address_en')))\n",
    "\n",
    "cols_l.insert(cols_l.index('line_name') + 1, cols_l.pop(cols_l.index('line_name_en')))\n",
    "cols_l.insert(cols_l.index('line_name_h') + 1, cols_l.pop(cols_l.index('line_name_h_en')))\n",
    "\n",
    "cols_c.insert(cols_c.index('company_name') + 1, cols_c.pop(cols_c.index('company_name_en')))\n",
    "cols_c.insert(cols_c.index('company_name_h') + 1, cols_c.pop(cols_c.index('company_name_h_en')))\n",
    "\n",
    "cols_p.insert(cols_p.index('prefecture') + 1, cols_p.pop(cols_p.index('prefecture_en')))\n",
    "cols_p.insert(cols_p.index('city') + 1, cols_p.pop(cols_p.index('city_en')))\n",
    "\n",
    "# Reorder the DataFrame columns\n",
    "station = station[cols_s]\n",
    "line = line[cols_l]\n",
    "company = company[cols_c]\n",
    "postcode = postcode[cols_p]\n",
    "\n",
    "\n",
    "# Print the output\n",
    "station # OR line, company, postcode"
   ]
  },
  {
   "cell_type": "markdown",
   "metadata": {},
   "source": [
    "To make it easier for future data analysis, the translated 'city' and 'prefecture' columns from postcode.csv are merged into the station.csv file. \n",
    "\n",
    "This is done by inner join both the tables (left:station, right:postcode) based on the 'post' and 'postcode' column respectively. However, preliminary check on the 'post' data in the station.csv file shows that the value need cleaning like removing \"-\" while the 'postcode' data in 'postcode_csv' needs changing datatype to string. Some 7 digits string data in 'post' also has leading \"0 (zero)\" which need truncating using lambda function. \n",
    "\n",
    "The edited tables (station, line, company) are then outputted as a new csv file to be used in data analysis."
   ]
  },
  {
   "cell_type": "code",
   "execution_count": null,
   "metadata": {},
   "outputs": [],
   "source": [
    "# Remove '-' from the data in 'post' column\n",
    "station['post'] = station['post'].str.replace('-', '')\n",
    "\n",
    "# Convert the 'postcode' column to string type\n",
    "postcode['postcode'] = postcode['postcode'].astype(str)\n",
    "\n",
    "# Remove the leading '0' from the 'post' column if it is 7 digits\n",
    "station['post'] = station['post'].apply(lambda x: x.lstrip('0') if len(x) > 6 else x)\n",
    "\n",
    "# Merge station.csv and postcode_jp.csv based on 'post' and 'postcode' columns\n",
    "station = pd.merge(station, postcode[['postcode', 'city_en', 'prefecture_en']], left_on='post', right_on='postcode', how='inner')\n",
    "\n",
    "# Rename the 'prefecture_en' to 'prefecture'\n",
    "station = station.rename(columns={'prefecture_en': 'prefecture'})\n",
    "\n",
    "\n",
    "# Output to csv file\n",
    "station.to_csv('station_updated.csv', index=False)\n",
    "company.to_csv('company_edited.csv', index=False)\n",
    "line.to_csv('line_edited.csv',  index=False)\n",
    "\n",
    "print(\"All processed data has been saved to CSV files\")"
   ]
  }
 ],
 "metadata": {
  "kernelspec": {
   "display_name": "myenv",
   "language": "python",
   "name": "python3"
  },
  "language_info": {
   "codemirror_mode": {
    "name": "ipython",
    "version": 3
   },
   "file_extension": ".py",
   "mimetype": "text/x-python",
   "name": "python",
   "nbconvert_exporter": "python",
   "pygments_lexer": "ipython3",
   "version": "3.10.13"
  }
 },
 "nbformat": 4,
 "nbformat_minor": 2
}
